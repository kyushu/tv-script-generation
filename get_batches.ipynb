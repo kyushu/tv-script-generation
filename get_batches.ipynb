{
 "cells": [
  {
   "cell_type": "code",
   "execution_count": 1,
   "metadata": {
    "collapsed": true,
    "deletable": true,
    "editable": true
   },
   "outputs": [],
   "source": [
    "import numpy as np"
   ]
  },
  {
   "cell_type": "code",
   "execution_count": 5,
   "metadata": {
    "collapsed": true,
    "deletable": true,
    "editable": true
   },
   "outputs": [],
   "source": [
    "length = 1000*5\n",
    "a = list(range(length))"
   ]
  },
  {
   "cell_type": "code",
   "execution_count": 6,
   "metadata": {
    "collapsed": false,
    "deletable": true,
    "editable": true
   },
   "outputs": [],
   "source": [
    "def get_batches(int_text, batch_size, seq_length):\n",
    "    row_length = batch_size*seq_length\n",
    "    n_row = int( len(int_text) / (row_length) )\n",
    "    final_length = n_row * row_length\n",
    "    print(\"final_length:{}\".format(final_length))\n",
    "    \n",
    "    x_data = int_text[:final_length]\n",
    "    y_data = int_text[1: final_length+1]\n",
    "    \n",
    "    batch_length = int(final_length/batch_size)\n",
    "    print(\"batch_length:{}\".format(batch_length))\n",
    "    \n",
    "#     n_seq = int(batch_length/seq_length)\n",
    "#     print(\"n_seq:{}\".format(n_seq))\n",
    "    \n",
    "#     n_row = int(final_length/n_seq)\n",
    "#     print(\"n_row:{}\".format(n_row))\n",
    "    batches = []\n",
    "    for i in range(n_row):\n",
    "#         print(\"i:{}\".format(i))\n",
    "        x_comps = []\n",
    "        y_comps = []\n",
    "        for m in range(batch_size):\n",
    "#             print(\"m:{}\".format(m))\n",
    "            start = i*seq_length + m*n_row*seq_length\n",
    "#             print(\"start:{}\".format(start))\n",
    "            x_comp = x_data[start: start+seq_length]\n",
    "            y_comp = y_data[start: start+seq_length]\n",
    "#             print(\"comp:{}\".format(comp))\n",
    "            x_comps.append(x_comp)\n",
    "            y_comps.append(y_comp)\n",
    "#         x_comps = np.reshape(np.array(x_comps), (-1, 3))\n",
    "#         y_comps = np.reshape(np.array(y_comps), (-1, 3))\n",
    "        one_batch = [x_comps, y_comps]\n",
    "        batches.append(one_batch)\n",
    "#         print(\"batches:{}\".format(batches))\n",
    "    print(\"batches.shape:{}\".format(np.array(batches).shape))   \n",
    "    \n",
    "    return batches\n",
    "#     for m in range(n_seq):\n",
    "#         print(\"====================\")\n",
    "#         print(\"m={}\".format(m))\n",
    "#         batches = []\n",
    "#         for i in range(batch_size):\n",
    "# #             print(\"i={}\".format(i))\n",
    "            \n",
    "#             start = i*batch_length\n",
    "# #             print(\"start:{}\".format(start))\n",
    "            \n",
    "#             row = x_data[start: start+batch_length]\n",
    "# #             print(\"row:{}\".format(row))\n",
    "            \n",
    "#             comp = row[m*seq_length: m*seq_length+seq_length]\n",
    "# #             print(\"comp:{}\".format(comp))\n",
    "                       \n",
    "#             batches.append(comp)\n",
    "#         batches = np.array(batches)\n",
    "#         print(\"batches:{}\".format(batches))\n",
    "    \n",
    "    \n",
    "    \n",
    "    "
   ]
  },
  {
   "cell_type": "code",
   "execution_count": 7,
   "metadata": {
    "collapsed": false,
    "deletable": true,
    "editable": true
   },
   "outputs": [
    {
     "name": "stdout",
     "output_type": "stream",
     "text": [
      "final_length:4480\n",
      "batch_length:35\n",
      "batches.shape:(7, 2, 128, 5)\n"
     ]
    }
   ],
   "source": [
    "batches = get_batches(a, 128, 5)"
   ]
  },
  {
   "cell_type": "code",
   "execution_count": null,
   "metadata": {
    "collapsed": false,
    "deletable": true,
    "editable": true
   },
   "outputs": [],
   "source": [
    "test = np.array(batches)\n",
    "shape = test.shape\n",
    "print(\"test.shape:{}\".format(shape))\n",
    "test0 = test[0]\n",
    "test0\n",
    "# test = np.reshape(test, (shape[0], shape[1], shape[2], 3))\n",
    "# print(\"test.shape:{}\".format(test.shape))\n",
    "# test0 = test[0][0]\n"
   ]
  },
  {
   "cell_type": "code",
   "execution_count": null,
   "metadata": {
    "collapsed": false,
    "deletable": true,
    "editable": true
   },
   "outputs": [],
   "source": [
    "a = np.linspace(0, 119, num=120)\n",
    "a = np.reshape(a, (-1, 2, 3))\n",
    "a[0]"
   ]
  },
  {
   "cell_type": "code",
   "execution_count": null,
   "metadata": {
    "collapsed": true,
    "deletable": true,
    "editable": true
   },
   "outputs": [],
   "source": []
  }
 ],
 "metadata": {
  "kernelspec": {
   "display_name": "Python 3",
   "language": "python",
   "name": "python3"
  },
  "language_info": {
   "codemirror_mode": {
    "name": "ipython",
    "version": 3
   },
   "file_extension": ".py",
   "mimetype": "text/x-python",
   "name": "python",
   "nbconvert_exporter": "python",
   "pygments_lexer": "ipython3",
   "version": "3.5.2"
  },
  "widgets": {
   "state": {},
   "version": "1.1.2"
  }
 },
 "nbformat": 4,
 "nbformat_minor": 2
}
